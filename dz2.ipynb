{
 "cells": [
  {
   "cell_type": "markdown",
   "id": "1d227b09",
   "metadata": {},
   "source": [
    "# Парное выравнивание"
   ]
  },
  {
   "cell_type": "markdown",
   "id": "09ebf420",
   "metadata": {},
   "source": [
    "# Порядок сдачи домашнего"
   ]
  },
  {
   "cell_type": "markdown",
   "id": "b2e6a39f",
   "metadata": {
    "ExecuteTime": {
     "end_time": "2024-09-23T05:46:49.255523Z",
     "start_time": "2024-09-23T05:46:49.234264Z"
    }
   },
   "source": [
    "Вам требуется создать гит репозиторий куда вы будете складывать все ваши домашние. Под каждое домашнее вы создаете отдельную ветку куда вносите все изменения в рамках домашнего. Как только домашнее готово - создаете пулл реквест (обратите внимание что в пулл реквесте должны быть отражены все изменения в рамках домашнего). Ревьювером назначаете http://github.com/michael15346/ .\n",
    "Перед сдачей проверьте код, напишите тесты. Не забудьте про PEP8, например, с помощью flake8. Задание нужно делать в jupyter notebook.\n",
    "\n",
    "**Дедлайн - 21 октября 10:00**"
   ]
  },
  {
   "cell_type": "markdown",
   "id": "d33c83c9",
   "metadata": {},
   "source": [
    "# Введение\n",
    "\n",
    "**Выравнивание последовательностей** — фундаментальный инструмент в биоинформатике, позволяющий сравнивать биологические последовательности (ДНК, РНК, белки) для выявления сходства, которое может указывать на функциональные, структурные или эволюционные связи между ними.\n",
    "\n",
    "**Парное выравнивание** подразумевает сравнение двух последовательностей для определения наилучшего соответствия между их элементами (нуклеотидами или аминокислотами). Существует два основных типа парного выравнивания:\n",
    "\n",
    "- **Глобальное выравнивание**: направлено на выравнивание всей длины двух последовательностей, максимально учитывая все элементы.\n",
    "- **Локальное выравнивание**: нацелено на поиск наилучшего соответствующего участка внутри двух последовательностей.\n",
    "\n",
    "В данном домашнем задании мы с вами сконцентрируемся на **глобальном выравнивании**."
   ]
  },
  {
   "cell_type": "markdown",
   "id": "3265888c",
   "metadata": {},
   "source": [
    "### Пример парного выравнивания\n",
    "\n",
    "Рассмотрим две нуклеотидные последовательности:\n",
    "\n",
    "```\n",
    "Последовательность 1 (Seq1): A G C T A C G A\n",
    "Последовательность 2 (Seq2): G C T A G A\n",
    "```\n",
    "\n",
    "**Глобальное выравнивание** (учитывает всю длину последовательностей):\n",
    "\n",
    "```\n",
    "Seq1: A G C T A C G A\n",
    "Seq2: - G C T A - G A\n",
    "```"
   ]
  },
  {
   "cell_type": "markdown",
   "id": "575fa50e",
   "metadata": {},
   "source": [
    "### Значение выравнивания последовательностей\n",
    "\n",
    "- **Эволюционные связи**: Сходство между последовательностями может указывать на общих предков.\n",
    "- **Функциональные домены**: Выравнивание помогает идентифицировать консервативные участки, важные для функции белка или нуклеиновой кислоты.\n",
    "- **Геномные исследования**: Используется для аннотации генов, предсказания структур и понимания генетических вариаций."
   ]
  },
  {
   "cell_type": "markdown",
   "id": "75ff52f7",
   "metadata": {},
   "source": [
    "## Алгоритм выравнивания\n",
    "\n",
    "- Для автоматизации процесса выравнивания используется **Алгоритм Нидлмана-Вунша**. Он предназначен для глобального выравнивания и использует динамическое программирование для нахождения оптимального выравнивания по всей длине последовательностей. \n",
    "- Для оценки сходства при выравнивании белковых последовательностей используется матрица **BLOSUM** (Blocks Substitution Matrix). Матрицы BLOSUM создаются на основе статистического анализа реальных белковых множественных выравниваний последовательностей."
   ]
  },
  {
   "cell_type": "markdown",
   "id": "5ee2122f",
   "metadata": {},
   "source": [
    "### Пример множественного выравнивания (для построения матрциы BLOSUM)\n",
    "\n",
    "Рассмотрим нуклеотидные последовательности:\n",
    "\n",
    "```\n",
    "Последовательность 1 (Seq1): A G C T A C G T G T C G C T G A A T C T A T G A C T\n",
    "Последовательность 2 (Seq2): G C T A G A G C A A G G C A A C T G C A T C T\n",
    "Последовательность 3 (Seq3): A C T G C A C C C A T G A A C C T C G C G C T\n",
    "Последовательность 4 (Seq4): A C T G C A C C C A T G A A C C T C T C G C T\n",
    "Последовательность 5 (Seq5): A C T G C A C C C A T G A A C C T C T C G C T\n",
    "Последовательность 6 (Seq6): A C T G C A C C C A T G A A C C T C T C A C T\n",
    "Последовательность 7 (Seq7): A C T G C A C C C A T G A A C C T C T C A C T\n",
    "```\n",
    "\n",
    "**Множественное выравнивание**:\n",
    "\n",
    "```\n",
    "Seq1: A G C T A C G T G T C G C T G A A T C T A T G A C T\n",
    "Seq2: - G C T A - G A G C A - A G G C A A C T G C A T C T\n",
    "Seq3: A - C T G - C A C C C - A T G A A C C T C G C G C T\n",
    "Seq4: A - C T G - C A C C C - A T G A A C C T C T C G C T\n",
    "Seq5: A - C T G - C A C C C - A T G A A C C T C T C G C T\n",
    "Seq6: A - C T G - C A C C C - A T G A A C C T C T C A C T\n",
    "Seq7: A - C T G - C A C C C - A T G A A C C T C T C A C T\n",
    "```"
   ]
  },
  {
   "cell_type": "markdown",
   "id": "fe15af34",
   "metadata": {},
   "source": [
    "Перед тем как приступать к реализации парного выравнивания давайте научимся считать матрицу BLOSUM."
   ]
  },
  {
   "cell_type": "markdown",
   "id": "4efffee5",
   "metadata": {},
   "source": [
    "# Матрица BLOSUM"
   ]
  },
  {
   "cell_type": "markdown",
   "id": "d424f7b8",
   "metadata": {
    "ExecuteTime": {
     "end_time": "2024-09-19T05:35:03.002840Z",
     "start_time": "2024-09-19T05:35:02.980986Z"
    }
   },
   "source": [
    "## Подсчет частот пар нуклеотидов\n",
    "\n",
    "### Шаг 1.1: Генерация пар нуклеотидов\n",
    "\n",
    "Напишите функцию `generate_pairs(alignments)`, которая проходит по всем позициям выравнивания (одного столбца) и генерирует все возможные пары нуклеотидов в этой позиции.\n",
    "\n",
    "**Пример**:\n",
    "\n",
    "Рассмотрим на примере множественного выравнивания выше:\n",
    "\n",
    "```\n",
    "generate_pairs([\"A\", \"A\", \"G\"])\n",
    "[('A', 'A'), ('A', 'G'), ('A', 'G')]\n",
    "\n",
    "generate_pairs([\"T\", \"T\", \"T\"])\n",
    "[('T', 'T'), ('T', 'T'), ('T', 'T')]\n",
    "\n",
    "generate_pairs([\"G\", \"G\", \"-\"])\n",
    "[('G', 'G'), ('G', '-'), ('G', '-')]\n",
    "\n",
    "len(generate_pairs(['A', 'T', 'G', 'G', 'G', 'A', 'A']))\n",
    "21\n",
    "```"
   ]
  },
  {
   "cell_type": "code",
   "execution_count": null,
   "id": "a693a08c",
   "metadata": {
    "ExecuteTime": {
     "end_time": "2024-09-20T07:42:12.795151Z",
     "start_time": "2024-09-20T07:42:12.788005Z"
    }
   },
   "outputs": [],
   "source": [
    "alignments = [\"AGCTACGTGTCGCTGAATCTATGACT\", \n",
    "              \"-GCTA-GAGCA-AGGCAACTGCATCT\", \n",
    "              \"A-CTG-CACCC-ATGAACCTCGCGCT\",\n",
    "              \"A-CTG-CACCC-ATGAACCTCTCGCT\",\n",
    "              \"A-CTG-CACCC-ATGAACCTCTCGCT\",\n",
    "              \"A-CTG-CACCC-ATGAACCTCTCACT\",\n",
    "              \"A-CTG-CACCC-ATGAACCTCTCACT\"\n",
    "             ]"
   ]
  },
  {
   "cell_type": "code",
   "execution_count": 1,
   "id": "cc0fda11",
   "metadata": {
    "ExecuteTime": {
     "end_time": "2024-09-20T07:42:12.798926Z",
     "start_time": "2024-09-20T07:42:12.796705Z"
    }
   },
   "outputs": [],
   "source": [
    "def generate_pairs(column):\n",
    "    return [tuple(sorted(pair)) for pair in combinations(column, 2)]"
   ]
  },
  {
   "cell_type": "markdown",
   "id": "b2a33a17",
   "metadata": {},
   "source": [
    "### Шаг 1.2: Подсчет частот пар\n",
    "\n",
    "Используйте полученные пары для подсчета частоты каждой пары нуклеотидов. Создайте словарь `pair_counts`, где ключом является кортеж из двух нуклеотидов, а значением — количество их совместных появлений. Пропуски в выравнивании нужно пропускать (если один из символ в выравнивании `'-'`)\n",
    "\n",
    "**Подсказка**: Учитывайте, что матрица симметрична, поэтому пары `('A','G')` и `('G','A')` должны считаться одинаковыми.\n",
    "\n",
    "**Пример**:\n",
    "\n",
    "```\n",
    "pair_counts = count_pairs(alignments)\n",
    "pair_counts\n",
    "{('A', 'A'): 85, ('G', 'G'): 37, ('C', 'C'): 143, ('T', 'T'): 88, ('A', 'G'): 21, \n",
    " ('C', 'G'): 31, ('A', 'T'): 10, ('C', 'T'): 16, ('A', 'C'): 33, ('G', 'T'): 14}\n",
    "```"
   ]
  },
  {
   "cell_type": "code",
   "execution_count": null,
   "id": "70cc891c",
   "metadata": {
    "ExecuteTime": {
     "end_time": "2024-09-20T07:42:12.805520Z",
     "start_time": "2024-09-20T07:42:12.803627Z"
    }
   },
   "outputs": [],
   "source": [
    "def count_pairs(elements):\n",
    "    pairs = {}\n",
    "    length = len(elements[0])\n",
    "    for i in range(length):\n",
    "        arr = [k[i] for k in elements]\n",
    "        l = len(arr)\n",
    "        for i in range(l):\n",
    "            if arr[i] == '-':\n",
    "                continue\n",
    "            for j in range(i + 1, l):\n",
    "                if arr[j] == '-':\n",
    "                    continue\n",
    "                pair = tuple(sorted([arr[i], arr[j]]))\n",
    "                if pair not in pairs:\n",
    "                    pairs[pair] = 1\n",
    "                else:\n",
    "                    pairs[pair] += 1\n",
    "    return pairs"
   ]
  },
  {
   "cell_type": "markdown",
   "id": "528faeca",
   "metadata": {},
   "source": [
    "## Вычисление ожидаемых частот"
   ]
  },
  {
   "cell_type": "markdown",
   "id": "351ef841",
   "metadata": {
    "ExecuteTime": {
     "end_time": "2024-09-19T07:27:32.026037Z",
     "start_time": "2024-09-19T07:27:32.008635Z"
    }
   },
   "source": [
    "Реализуйте функцию `calculate_frequencies`, которая будет вычислять частоту нуклеотида по множественному выравниванию\n",
    "\n",
    "**Пример**:\n",
    "\n",
    "```\n",
    "freqs = calculate_frequencies(alignments)\n",
    "print(\"Частоты:\")\n",
    "for x, freq in freqs.items():\n",
    "    print(f\"{x}: {freq:.4f}\")\n",
    "    \n",
    "Частоты:\n",
    "A: 0.2439\n",
    "G: 0.1585\n",
    "C: 0.3780\n",
    "T: 0.2195\n",
    "```"
   ]
  },
  {
   "cell_type": "code",
   "execution_count": null,
   "id": "ae017aee",
   "metadata": {
    "ExecuteTime": {
     "end_time": "2024-09-20T07:55:17.618141Z",
     "start_time": "2024-09-20T07:55:17.610470Z"
    }
   },
   "outputs": [],
   "source": [
    "def calculate_frequencies(alignments):\n",
    "    nucleotides = {}\n",
    "    total = 0\n",
    "    for i in alignments:\n",
    "        for j in i:\n",
    "            if j != '-':\n",
    "                if j in nucleotides:\n",
    "                    nucleotides[j] += 1\n",
    "                else:\n",
    "                    nucleotides[j] = 1\n",
    "                total += 1\n",
    "    frequencies = {i: count / total for i, count in nucleotides.items()}\n",
    "    return frequencies"
   ]
  },
  {
   "cell_type": "markdown",
   "id": "6bcd02ff",
   "metadata": {},
   "source": [
    "##  Расчет логарифмических коэффициентов"
   ]
  },
  {
   "cell_type": "markdown",
   "id": "056d0896",
   "metadata": {},
   "source": [
    "- Для каждой пары нуклеотидов `(x, y)` вычислите логарифмический коэффициент замены по формуле:\n",
    "\n",
    "\n",
    "$$S(x, y) = scale * \\log_2 \\left( \\frac{observed\\_freq[x, y]}{expected\\_freq[x, y]} \\right)$$\n",
    "\n",
    "- Здесь `observed_freq` — наблюдаемая частота пары из `pair_counts` деленное на общее количество пар, а `expected_freq` — ожидаемая частота, которую можно вычислить как `expected_freq[x, y] = freqs[x] * freqs[y]`\n",
    "\n",
    "- Для удобства представления округлите значения `S(x, y)` до целых чисел, умножив на масштабный фактор (например, 3).\n",
    "\n",
    "**Пример:**\n",
    "\n",
    "```python\n",
    "scores = calculate_scores(pair_counts, freqs)\n",
    "scores\n",
    "{('A', 'A'): 5, ('G', 'G'): 5, ('C', 'C'): 3, ('T', 'T'): 6, ('A', 'G'): 1,\n",
    " ('C', 'G'): 0, ('A', 'T'): -4, ('C', 'T'): -4, ('A', 'C'): -1, ('G', 'T'): -1}\n",
    "```\n"
   ]
  },
  {
   "cell_type": "code",
   "execution_count": null,
   "id": "96bfcb12",
   "metadata": {
    "ExecuteTime": {
     "end_time": "2024-09-20T07:57:32.470771Z",
     "start_time": "2024-09-20T07:57:32.458314Z"
    }
   },
   "outputs": [],
   "source": [
    "def calculate_scores(pair_counts, freqs, scale_factor=3):\n",
    "    total_pairs = sum(pair_counts.values())\n",
    "    scores = {}\n",
    "    for (x, y), observed_count in pair_counts.items():\n",
    "        observed_freq = observed_count / total_pairs\n",
    "        expected_freq = freqs[x] * freqs[y]\n",
    "        if expected_freq > 0:\n",
    "            score = math.log2(observed_freq / expected_freq)\n",
    "            scores[(x, y)] = round(score * scale_factor)\n",
    "    return scores"
   ]
  },
  {
   "cell_type": "markdown",
   "id": "876ab787",
   "metadata": {},
   "source": [
    "\n",
    "## Составление матрицы BLOSUM\n",
    "\n",
    "### Шаг 4.1: Заполнение матрицы\n",
    "\n",
    "- Реализуйте функцию `create_blosum_matrix`, для создания BLOSUM матрицы.\n",
    "- Используйте рассчитанные ранее логарифмические коэффициенты `scores` для заполнения матрицы.\n",
    "- Учитывайте, что матрица симметрична: `S(x, y) = S(y, x)`.\n",
    "\n",
    "**Пример:**\n",
    "\n",
    "```python\n",
    "blosum_matrix = create_blosum_matrix(scores, nucleotides)\n",
    "blosum_matrix\n",
    "{'A': {'A': 5, 'G': 1, 'C': -1, 'T': -4},\n",
    " 'G': {'A': 1, 'G': 5, 'C': 0, 'T': -1},\n",
    " 'C': {'A': -1, 'G': 0, 'C': 3, 'T': -4},\n",
    " 'T': {'A': -4, 'G': -1, 'C': -4, 'T': 6}}\n",
    "```\n"
   ]
  },
  {
   "cell_type": "code",
   "execution_count": null,
   "id": "e28e3f2c",
   "metadata": {
    "ExecuteTime": {
     "end_time": "2024-09-20T07:49:45.687263Z",
     "start_time": "2024-09-20T07:49:45.676996Z"
    }
   },
   "outputs": [],
   "source": [
    "def create_blosum_matrix(scores, nucleotides):\n",
    "    blosum_matrix = {i: {} for i in nucleotides}\n",
    "    for (x, y), score in scores.items():\n",
    "        blosum_matrix[x][y] = score\n",
    "        blosum_matrix[y][x] = score\n",
    "    return blosum_matrix"
   ]
  },
  {
   "cell_type": "markdown",
   "id": "f3b9efbe",
   "metadata": {
    "ExecuteTime": {
     "end_time": "2024-09-19T07:55:20.436835Z",
     "start_time": "2024-09-19T07:55:20.420618Z"
    }
   },
   "source": [
    "### Шаг 4.2: Вывод матрицы\n",
    "\n",
    "- Выведите матрицу BLOSUM в удобочитаемом формате, например, как таблицу с заголовками.\n",
    "\n",
    "**Пример:**\n",
    "\n",
    "```python\n",
    "print_blosum_matrix(blosum_matrix, nucleotides)\n",
    "    A   G   C   T\n",
    "A   5   1  -1  -4\n",
    "G   1   5   0  -1\n",
    "C  -1   0   3  -4\n",
    "T  -4  -1  -4   6\n",
    "```"
   ]
  },
  {
   "cell_type": "code",
   "execution_count": null,
   "id": "93ee6754",
   "metadata": {
    "ExecuteTime": {
     "end_time": "2024-09-20T07:50:02.894882Z",
     "start_time": "2024-09-20T07:50:02.881450Z"
    }
   },
   "outputs": [],
   "source": [
    "def print_blosum_matrix(matrix, nucleotides):\n",
    "    print(\"     \" + \"    \".join(nucleotides))\n",
    "    for i in nucleotides:\n",
    "        row = [f\"{matrix[i][j]:3}\" for j in nucleotides]\n",
    "        print(f\"{i}  \" + \"  \".join(row))"
   ]
  },
  {
   "cell_type": "markdown",
   "id": "990c0c7a",
   "metadata": {},
   "source": [
    "## Визуализация результатов\n",
    "\n",
    "Запустите код для визуализации результатов. Здесь вам понадобится установить библиотеки. Для этого в консоли выполните:\n",
    "```\n",
    "pip install numpy\n",
    "pip install seaborn\n",
    "pip install matplotlib\n",
    "```"
   ]
  },
  {
   "cell_type": "code",
   "execution_count": null,
   "id": "e6dc51ef",
   "metadata": {
    "ExecuteTime": {
     "end_time": "2024-09-20T07:50:05.193727Z",
     "start_time": "2024-09-20T07:50:05.053305Z"
    }
   },
   "outputs": [],
   "source": [
    "import numpy as np\n",
    "import seaborn as sns\n",
    "import matplotlib.pyplot as plt\n",
    "\n",
    "def visualize_blosum_matrix(matrix, nucleotides):\n",
    "    data = np.array([[matrix[x][y] for y in nucleotides] for x in nucleotides])\n",
    "    plt.figure(figsize=(10, 8))\n",
    "    sns.heatmap(data, xticklabels=nucleotides, yticklabels=nucleotides, annot=True, cmap=\"coolwarm\")\n",
    "    plt.title(\"Матрица BLOSUM\")\n",
    "    plt.show()\n",
    "\n",
    "# Пример использования\n",
    "visualize_blosum_matrix(blosum_matrix, nucleotides)"
   ]
  },
  {
   "cell_type": "markdown",
   "id": "ea3ccc74",
   "metadata": {},
   "source": [
    "# Реализация алгоритма Нидлмана-Вунша"
   ]
  },
  {
   "cell_type": "markdown",
   "id": "5c4b370c",
   "metadata": {},
   "source": [
    "### Шаг 5: Инициализация матрицы динамического программирования\n",
    "\n",
    "Теперь перейдём к реализации алгоритма [Нидлмана-Вунша](https://en.wikipedia.org/wiki/Needleman%E2%80%93Wunsch_algorithm).\n",
    "\n",
    "Реализуйте функцию `init`, которая по $m, n$ и ошибке $\\sigma$ строит матрицу c $m + 1$ строкой и $n + 1$ столбцом:\n",
    "\n",
    "$$A_{m,n} = \\begin{pmatrix} 0 & -\\sigma & \\cdots & -n \\sigma \\\\ -\\sigma & 0 & \\cdots & 0 \\\\ \\vdots & \\vdots & \\ddots & \\vdots \\\\ -m\\sigma & 0 & \\cdots & 0 \\end{pmatrix} $$\n",
    "\n",
    "**Пример:**\n",
    "\n",
    "```python\n",
    "print(init(3, 3, 4))\n",
    "[[0, -4, -8, -12], [-4, 0, 0, 0], [-8, 0, 0, 0], [-12, 0, 0, 0]]\n",
    "```"
   ]
  },
  {
   "cell_type": "code",
   "execution_count": null,
   "id": "c283ca17",
   "metadata": {
    "ExecuteTime": {
     "end_time": "2024-09-20T07:42:13.891859Z",
     "start_time": "2024-09-20T07:42:13.889917Z"
    }
   },
   "outputs": [],
   "source": [
    "def init(rows, cols, gap_penalty=10):\n",
    "    matrix = [[0] * (cols + 1) for _ in range(rows + 1)]\n",
    "    for i in range(1, cols + 1):\n",
    "        matrix[0][i] = matrix[0][i - 1] - gap_penalty\n",
    "    for i in range(1, rows + 1):\n",
    "        matrix[i][0] = matrix[i - 1][0] - gap_penalty\n",
    "    return matrix"
   ]
  },
  {
   "cell_type": "markdown",
   "id": "bfeb18d8",
   "metadata": {
    "ExecuteTime": {
     "end_time": "2024-09-20T05:07:36.025808Z",
     "start_time": "2024-09-20T05:07:36.015828Z"
    }
   },
   "source": [
    "### Шаг 6: Заполнение матрицы динамического программирования"
   ]
  },
  {
   "cell_type": "markdown",
   "id": "6cf519aa",
   "metadata": {},
   "source": [
    "Пусть `a` и `b` - две последовательности, которые хотим выравнять. Теперь имея пустую матрицу, нужно научиться её заполнять. Для этого вспомним, как вычисляется очередной элемент матрицы:\n",
    "\n",
    "$$A_{i \\ j} = max \\begin{cases} A_{i-1 \\ j-1} + s(a_{i},b_{j}) & \\ \\text{Match / Mismatch}\\\\ A_{i \\ j-1} - \\sigma & \\ \\text{Insertion} \\\\ A_{i-1\\ j} - \\sigma & \\ \\text{Deletion} \\end{cases}$$\n",
    "\n",
    "где $s(a_{i},b_{j})$ - значение матрицы BLOSUM для нуклеотидов $a_{i}$ и $b_{j}$, $\\sigma$ - штраф за пропуск символа в выравнивании (параметр)"
   ]
  },
  {
   "cell_type": "markdown",
   "id": "29cceaaf",
   "metadata": {},
   "source": [
    "### Шаг 7: Вычисление значения матрицы"
   ]
  },
  {
   "cell_type": "markdown",
   "id": "13d9795b",
   "metadata": {},
   "source": [
    "Реализуйте функцию `get_new_score`, которая принимает на вход 5 параметров - `up` ($A_{i-1\\ j}$), `left` ($A_{i \\ j-1}$), `middle` ($A_{i-1 \\ j-1}$), `s_score` ($s(a_{i},b_{j})$), `gap_penalty` ($\\sigma$), и вычисляет значение для матрицы $A_{i\\ j}$\n",
    "\n",
    "**Пример:**\n",
    "\n",
    "```python\n",
    "print(get_new_score(0, 10, 2, 0, 2))\n",
    "8\n",
    "print(get_new_score(-16, -7, -14, 0, 2))\n",
    "-9\n",
    "```"
   ]
  },
  {
   "cell_type": "code",
   "execution_count": null,
   "id": "6aba390b",
   "metadata": {
    "ExecuteTime": {
     "end_time": "2024-09-20T07:42:13.901858Z",
     "start_time": "2024-09-20T07:42:13.899848Z"
    }
   },
   "outputs": [],
   "source": [
    "def get_new_score(up, left, middle, s_score, gap_penalty):\n",
    "    return max(up - gap_penalty, left - gap_penalty, middle + s_score)"
   ]
  },
  {
   "cell_type": "markdown",
   "id": "c4efe8f2",
   "metadata": {},
   "source": [
    "### Шаг 8 Заполнение матрицы"
   ]
  },
  {
   "cell_type": "markdown",
   "id": "2139631a",
   "metadata": {},
   "source": [
    "Реализуйте функцию `align`,  которая на вход принимает две последовательности ДНК, штраф за пропуск ($\\sigma$), матрицу BLOSUM и возвращает заполненную матрицу `A`.\n",
    "\n",
    "**Пример:**\n",
    "\n",
    "```python\n",
    "top_seq = \"AGTACGCA\"\n",
    "bottom_seq = \"TATGC\"\n",
    "gap_penalty = 2\n",
    "\n",
    "print(align(top_seq, bottom_seq, gap_penalty, blosum_matrix))\n",
    "[[0, -2, -4, -6, -8, -10, -12, -14, -16],\n",
    " [-2, -4, -3, 2, 0, -2, -4, -6, -8],\n",
    " [-4, 3, 1, 0, 7, 5, 3, 1, -1],\n",
    " [-6, 1, 2, 7, 5, 3, 4, 2, 0],\n",
    " [-8, -1, 6, 5, 8, 6, 8, 6, 4],\n",
    " [-10, -3, 4, 3, 6, 11, 9, 11, 9]]\n",
    "```"
   ]
  },
  {
   "cell_type": "code",
   "execution_count": null,
   "id": "889554a2",
   "metadata": {
    "ExecuteTime": {
     "end_time": "2024-09-20T07:42:13.907603Z",
     "start_time": "2024-09-20T07:42:13.906050Z"
    }
   },
   "outputs": [],
   "source": [
    "top_seq = \"AGTACGCA\"\n",
    "bottom_seq = \"TATGC\"\n",
    "gap_penalty = 2"
   ]
  },
  {
   "cell_type": "code",
   "execution_count": null,
   "id": "e2f22469",
   "metadata": {
    "ExecuteTime": {
     "end_time": "2024-09-20T07:42:13.914057Z",
     "start_time": "2024-09-20T07:42:13.908397Z"
    }
   },
   "outputs": [],
   "source": [
    "def align(top_seq, bottom_seq, gap_penalty, blosum_matrix):\n",
    "    rows = len(bottom_seq) + 1\n",
    "    cols = len(top_seq) + 1\n",
    "    A = init(rows - 1, cols - 1, gap_penalty)\n",
    "    for i in range(1, rows):\n",
    "        for j in range(1, cols):\n",
    "            s_score = blosum_matrix[bottom_seq[i - 1]][top_seq[j - 1]]\n",
    "            A[i][j] = get_new_score(A[i - 1][j], A[i][j - 1], A[i - 1][j - 1], s_score, gap_penalty)\n",
    "    return A"
   ]
  },
  {
   "cell_type": "markdown",
   "id": "f68198b6",
   "metadata": {
    "ExecuteTime": {
     "end_time": "2024-09-20T06:44:17.331762Z",
     "start_time": "2024-09-20T06:44:17.321308Z"
    }
   },
   "source": [
    "### Шаг 9: Построение выравнивания\n",
    "\n",
    "Теперь имея матрицу выравнивания построим самое выравнивание.\n",
    "\n",
    "Реализуйте функцию get_alignment, которая по двум последовательностям, матрице выравнивания, штрафа за пропуски, бонусам за совпадение/несовпадение нуклеотидов строит выравнивание.\n",
    "\n",
    "**Пример:**\n",
    "\n",
    "```python\n",
    "\n",
    "top_seq = \"AGTACGCA\"\n",
    "bottom_seq = \"TATGC\"\n",
    "gap_penalty = 2\n",
    "sm = align(top_seq, bottom_seq, gap_penalty, blosum_matrix)\n",
    "aligns = get_alignment(top_seq, bottom_seq, sm, gap_penalty, blosum_matrix)\n",
    "print(aligns[0])\n",
    "print(aligns[1])\n",
    "TA-T--GC-\n",
    "-AGTACGCA\n",
    "\n",
    "top_seq = \"AGTCTCCCCC\"\n",
    "bottom_seq = \"ACTTCTACCCCAGC\"\n",
    "sm = align(top_seq, bottom_seq, gap_penalty, blosum_matrix)\n",
    "aligns = get_alignment(top_seq, bottom_seq, sm, gap_penalty, blosum_matrix)\n",
    "print(aligns[0])\n",
    "print(aligns[1])\n",
    "ACTTCTACCCCAGC\n",
    "AGT-CT-CCCC--C\n",
    "```"
   ]
  },
  {
   "cell_type": "code",
   "execution_count": null,
   "id": "4449d97e",
   "metadata": {
    "ExecuteTime": {
     "end_time": "2024-09-20T07:42:13.929902Z",
     "start_time": "2024-09-20T07:42:13.928023Z"
    }
   },
   "outputs": [],
   "source": [
    "def get_alignment(top_seq, bottom_seq, sm, gap_penalty, blosum_matrix):\n",
    "    aligned_top = []\n",
    "    aligned_bottom = []\n",
    "    i, j = len(bottom_seq), len(top_seq)\n",
    "    while i > 0 or j > 0:\n",
    "        if i > 0 and j > 0:\n",
    "            score = sm[i][j]\n",
    "            diagonal_score = sm[i - 1][j - 1]\n",
    "            s_score = blosum_matrix[bottom_seq[i - 1]][top_seq[j - 1]]\n",
    "            if score == diagonal_score + s_score:\n",
    "                aligned_top.append(top_seq[j - 1])\n",
    "                aligned_bottom.append(bottom_seq[i - 1])\n",
    "                i -= 1\n",
    "                j -= 1\n",
    "                continue\n",
    "        if j > 0 and (i == 0 or sm[i][j] == sm[i][j - 1] - gap_penalty):\n",
    "            aligned_top.append(top_seq[j - 1])\n",
    "            aligned_bottom.append('-')\n",
    "            j -= 1\n",
    "        elif i > 0 and (j == 0 or sm[i][j] == sm[i - 1][j] - gap_penalty):\n",
    "            aligned_top.append('-')\n",
    "            aligned_bottom.append(bottom_seq[i - 1])\n",
    "            i -= 1\n",
    "    return ''.join(reversed(aligned_bottom)), ''.join(reversed(aligned_top))\n"
   ]
  },
  {
   "cell_type": "markdown",
   "id": "0c8daed3",
   "metadata": {
    "ExecuteTime": {
     "end_time": "2024-09-20T08:00:23.468052Z",
     "start_time": "2024-09-20T08:00:23.453507Z"
    }
   },
   "source": [
    "## Поздравляю! Мы научились выравнивать ДНК!"
   ]
  }
 ],
 "metadata": {
  "kernelspec": {
   "display_name": "Python 3 (ipykernel)",
   "language": "python",
   "name": "python3"
  },
  "language_info": {
   "codemirror_mode": {
    "name": "ipython",
    "version": 3
   },
   "file_extension": ".py",
   "mimetype": "text/x-python",
   "name": "python",
   "nbconvert_exporter": "python",
   "pygments_lexer": "ipython3",
   "version": "3.12.4"
  }
 },
 "nbformat": 4,
 "nbformat_minor": 5
}
